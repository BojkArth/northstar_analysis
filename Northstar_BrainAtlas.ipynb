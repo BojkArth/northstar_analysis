{
 "cells": [
  {
   "cell_type": "markdown",
   "metadata": {},
   "source": [
    "# Darmanis et al. Brain and Glioblastoma datasets:\n",
    "# Reproduce all analysis as presented in Zanini et al. 2019"
   ]
  },
  {
   "cell_type": "code",
   "execution_count": null,
   "metadata": {},
   "outputs": [],
   "source": [
    "# import third party packages:\n",
    "import pandas as pd\n",
    "import numpy as np\n",
    "import matplotlib.pyplot as plt\n",
    "import seaborn as sns\n",
    "from matplotlib import gridspec\n",
    "import matplotlib as mpl\n",
    "import imp\n",
    "import sys\n",
    "import requests\n",
    "import os\n",
    "\n",
    "# here we load the .py files as modules:\n",
    "#sys.path.append('/home/bojk/Data/minimeta_pyfiles/') #my linux\n",
    "sys.path.append('/Users/bojk/Google Drive/QuakeLab/minimeta_pyfiles/') #my mac\n",
    "import northstar_analysis as noa\n",
    "import northstar_sankey as nosa\n",
    "import northstar_dotplot as ndot\n",
    "import get_timestamp as time"
   ]
  },
  {
   "cell_type": "markdown",
   "metadata": {},
   "source": [
    "## download and extract relevant datasets:\n"
   ]
  },
  {
   "cell_type": "markdown",
   "metadata": {},
   "source": [
    "### Brain atlas data:"
   ]
  },
  {
   "cell_type": "code",
   "execution_count": null,
   "metadata": {},
   "outputs": [],
   "source": [
    "no = noa.northstar.fetch_atlas.AtlasFetcher()\n",
    "AT = no.list_atlases()\n",
    "AT[AT.index.str.contains('Darmanis')]"
   ]
  },
  {
   "cell_type": "code",
   "execution_count": null,
   "metadata": {
    "collapsed": true
   },
   "outputs": [],
   "source": [
    "atlas_avg = no.fetch_atlas('Darmanis_2015_nofetal',kind='average') # fetch average gene expression without fetal cells\n",
    "atlas_sub = no.fetch_atlas('Darmanis_2015_nofetal',kind='subsample') # fetch random subset of cells per class (without fetal cells)\n",
    "atlas_avg_metadata = pd.DataFrame(atlas_avg['number_of_cells']).rename(index=str,columns={0:'number_of_cells'})\n",
    "atlas_sub_metadata = pd.DataFrame(atlas_sub['cell_types']).rename(index=str,columns={0:'number_of_cells'})\n",
    "atlas_avg_counttable = atlas_avg['counts']\n",
    "atlas_sub_counttable = atlas_sub['counts']"
   ]
  },
  {
   "cell_type": "markdown",
   "metadata": {},
   "source": [
    "### Glioblastoma Dataset:"
   ]
  },
  {
   "cell_type": "code",
   "execution_count": null,
   "metadata": {},
   "outputs": [],
   "source": [
    "#savedir_init = '/home/bojk/Data/SA_data/' #linux \n",
    "savedir_init = '/Users/bojk/Google Drive/QuakeLab/NorthStar/' # mac\n",
    "loaddir = savedir_init+'GBM_data_and_metadata/'\n",
    "# only download if this is the first time running this notebook:\n",
    "if not os.path.exists(loaddir):\n",
    "    #darmanis glioblastoma (GBM) dataset (to annotate based on brain atlas)\n",
    "    url = 'http://storage.googleapis.com/gbmseqrawdata/rawData.zip'\n",
    "\n",
    "    from io import BytesIO\n",
    "    from zipfile import ZipFile\n",
    "    from urllib.request import urlopen\n",
    "\n",
    "    resp = urlopen(url)\n",
    "    zipfile = ZipFile(BytesIO(resp.read()))\n",
    "    files = zipfile.namelist()\n",
    "    print('Avalable glioblastoma files:')\n",
    "    for f in files:\n",
    "        print(f)\n",
    "\n",
    "    for item in [1,2,3,4]:\n",
    "        zipfile.extract(files[item],path=savedir_init)\n",
    "    GBM_count_path = savedir_init+files[4]\n",
    "    GBM_counttable = pd.read_csv(GBM_count_path,sep=' ',index_col=0)\n",
    "    GBM_meta = pd.read_csv(savedir_init+files[2],sep=' ',index_col=0)\n",
    "    GBMtsne = pd.read_csv(savedir_init+files[1],sep=' ',index_col=0)\n",
    "    # add annotation from separate file\n",
    "    GBMmeta2= pd.read_excel(savedir_init+files[3],index_col=0,header=19,sep=' ')[:3589] # read from xls file\n",
    "\n",
    "else:\n",
    "    GBMtsne = pd.read_csv(loaddir+'GBM_TSNE.csv',sep=' ',index_col=0)\n",
    "    GBM_meta = pd.read_csv(loaddir+'GBM_metadata.csv',sep=' ',index_col=0)\n",
    "    GBMmeta2= pd.read_excel(loaddir+'GEO_upload/spyros.darmanis_metadata_GBM.xls',index_col=0,header=19,sep=' ')[:3589]\n",
    "    GBM_counttable = pd.read_csv(loaddir+'GBM_raw_gene_counts.csv',sep=' ',index_col=0)\n",
    "\n",
    "GBM_meta = GBM_meta.join(GBMtsne)\n",
    "GBM_meta = GBM_meta.join(GBMmeta2['characteristics: cell type'])\n",
    "GBM_meta.rename(index=str,columns={'characteristics: cell type':'Cell_type2'},inplace=True)\n",
    "\n",
    "# correct spelling and systematize cell types\n",
    "name_lut = {'Astocyte':'Astrocyte','microglia':'Microglia','Vascular':'Endothelial'\n",
    "       ,'Astrocytes':'Astrocyte','Oligodendrocyte':'Oligodendrocyte','Neurons':'Neuron'\n",
    "       ,'Neoplastic':'Neoplastic','Immune cell':'Immune cell','OPC':'OPC','Neuron':'Neuron'}\n",
    "GBM_meta['Cell_type'] = GBM_meta['Cell_type2'].map(name_lut)\n",
    "atlas_avg_metadata.rename(index=name_lut,inplace=True)\n",
    "atlas_avg_counttable.rename(columns=name_lut,inplace=True)"
   ]
  },
  {
   "cell_type": "code",
   "execution_count": null,
   "metadata": {
    "collapsed": true
   },
   "outputs": [],
   "source": [
    "# make folder to save results\n",
    "savedir = savedir_init+'BrainAnalysis/'\n",
    "if not os.path.exists(os.path.dirname(savedir)):\n",
    "    try:\n",
    "        os.makedirs(os.path.dirname(savedir))\n",
    "    except OSError as exc:\n",
    "        if exc.errno != errno.EEXIST:\n",
    "            raise"
   ]
  },
  {
   "cell_type": "code",
   "execution_count": null,
   "metadata": {},
   "outputs": [],
   "source": [
    "f,ax = plt.subplots(figsize=(6,5))\n",
    "keys = atlas_avg_metadata.sort_index().index#sort_values('number_of_cells',ascending=False).index\n",
    "lut = dict(zip(keys,sns.color_palette('Paired',len(keys))))\n",
    "colors = atlas_avg_metadata.sort_values('number_of_cells').index.map(lut)\n",
    "atlas_avg_metadata.sort_values('number_of_cells')['number_of_cells'].plot.barh(width=.9,ax=ax,color=colors)\n",
    "#plt.gca().invert_yaxis()\n",
    "plt.title('Atlas data')\n",
    "plt.xlabel('number of cells')\n",
    "plt.gcf().subplots_adjust(left=.5,right=0.95,bottom=.2,top=.9)\n",
    "f.savefig(savedir+'/Figure_2C_top.png')\n",
    "f.savefig(savedir+'/Figure_2C_top.pdf')\n",
    "\n",
    "additional_classes = list(set(GBM_meta['Cell_type']).difference(set(atlas_avg_metadata.index)))\n",
    "lut.update({additional_classes[0]:sns.color_palette('Paired',8)[6]})\n",
    "lut[additional_classes[1]] = sns.color_palette('Paired',8)[7]\n",
    "\n",
    "f,ax = plt.subplots(figsize=(6,5))\n",
    "colors = GBM_meta['Cell_type'].value_counts().index.map(lut)\n",
    "GBM_meta['Cell_type'].value_counts().plot.barh(width=.9,color=colors,ax=ax)\n",
    "plt.gca().invert_yaxis()\n",
    "plt.xlabel('number of cells')\n",
    "plt.title('New brain data')\n",
    "plt.gcf().subplots_adjust(left=.5,right=0.95,bottom=.2,top=.9)\n",
    "f.savefig(savedir+'/Figure_2C_bottom.png')\n",
    "f.savefig(savedir+'/Figure_2C_bottom.pdf')\n",
    "plt.show()"
   ]
  },
  {
   "cell_type": "markdown",
   "metadata": {},
   "source": [
    "# Feature select using atlas averages"
   ]
  },
  {
   "cell_type": "code",
   "execution_count": null,
   "metadata": {},
   "outputs": [],
   "source": [
    "date = time.datenum_complete()\n",
    "# make a lookup table to standardize cell type nomenclature of atlas and test data:\n",
    "name_lut = {'Astocyte':'Astrocyte','Astrocyte':'Astrocyte','microglia':'Microglia','Vascular':'Endothelial'\n",
    "       ,'Astrocytes':'Astrocyte','Oligodendrocyte':'Oligodendrocyte','Neurons':'Neuron'\n",
    "       ,'Neoplastic':'Neoplastic','Immune cell':'Immune cell','OPC':'OPC','Neuron':'Neuron'}\n",
    "kwds = {'atlas':'Darmanis_2015_nofetal',\n",
    "         'n_features_per_cell_type':50,\n",
    "         'n_features_overdispersed':600,\n",
    "         'n_pcs':20,\n",
    "         'n_neighbors':10,\n",
    "         'n_neighbors_out_of_atlas':5,\n",
    "         'weights_atlas_cells':20,\n",
    "         'threshold_neighborhood':0.8,\n",
    "         'resolution_parameter':0.001,\n",
    "         'timestamp':date,\n",
    "         'savedir':savedir,\n",
    "         'CT_lut':name_lut\n",
    "        }\n",
    "tsnedf,celltypes,distance_matrix = noa.atlas_averages_to_tsnedf(GBM_meta,GBM_counttable,**kwds)"
   ]
  },
  {
   "cell_type": "code",
   "execution_count": null,
   "metadata": {},
   "outputs": [],
   "source": [
    "addl = len(celltypes)-8\n",
    "if (addl % 2 == 0):\n",
    "    added_colors = sns.color_palette('BrBG',addl)\n",
    "    colors = sns.color_palette('Paired', 10)[:6]+sns.color_palette('Paired',12)[8:10]+added_colors\n",
    "elif addl>2:\n",
    "    all_colors = sns.color_palette('BrBG',addl)\n",
    "    mid = round((len(all_colors)-1)/2)\n",
    "    added_colors = all_colors[:mid]+all_colors[mid+1:]\n",
    "    colors = sns.color_palette('Paired', 10)[:6]+sns.color_palette('Paired',12)[8:10]+added_colors\n",
    "else:\n",
    "    added_colors = sns.color_palette('BrBG',3)[0]\n",
    "    colors = sns.color_palette('Paired', 10)[:6]+sns.color_palette('Paired',12)[8:10]+[added_colors]\n",
    "mainlut = dict(zip(celltypes,colors))\n",
    "newcolor = tsnedf['new_membership'].map(mainlut)\n",
    "weights = list(np.ones(6)*kwds['weights_atlas_cells']*30)+list(np.ones(len(tsnedf[6:]))*30)\n",
    "\n",
    "f,ax = plt.subplots(figsize=(12,10))\n",
    "tsnedf.plot.scatter('Dim1','Dim2',s=weights\n",
    "                    ,alpha=.5,color=newcolor,ax=ax)\n",
    "for x,y in newlut.items():\n",
    "    plt.bar(0,0,color=y,label=x,alpha=1)\n",
    "    handles, labels = ax.get_legend_handles_labels()\n",
    "    #plt.legend(handles[:],labels[:],bbox_to_anchor=(-0.0, 1.08, 1., .102), loc=2,\n",
    "plt.legend(handles,celltypes,bbox_to_anchor=(1, .9, .43, .102), loc=2,\n",
    "               ncol=1, mode=\"expand\",fontsize=15)\n",
    "#plt.title('First round selection, '+str(atlasgenes)+' atlas genes included')\n",
    "plt.gcf().subplots_adjust(left=.1,right=0.75)\n",
    "f.savefig(savedir+date+'/Figure_2B.png')\n",
    "f.savefig(savedir+date+'/Figure_2B.pdf')\n",
    "plt.show()"
   ]
  },
  {
   "cell_type": "code",
   "execution_count": null,
   "metadata": {},
   "outputs": [],
   "source": [
    "idx = tsnedf[6:].index\n",
    "GBM_meta.loc[idx,'new_membership'] = tsnedf.iloc[6:]['new_membership']\n",
    "# new results mapped onto old tSNE\n",
    "\n",
    "newlut = dict(zip(celltypes,colors))#+sns.color_palette('BrBG',len(vals)-10)))\n",
    "newcolor = GBM_meta['new_membership'].map(newlut)\n",
    "\n",
    "f,ax = plt.subplots(figsize=(12,10))\n",
    "GBM_meta.plot.scatter('Dim1','Dim2',s=60\n",
    "                    ,alpha=.5,color=newcolor,ax=ax)\n",
    "for x,y in newlut.items():\n",
    "    plt.bar(0,0,color=y,label=x,alpha=1)\n",
    "    handles, labels = ax.get_legend_handles_labels()\n",
    "    #plt.legend(handles[:],labels[:],bbox_to_anchor=(-0.0, 1.08, 1., .102), loc=2,\n",
    "plt.legend(handles,labels,bbox_to_anchor=(1, .9, .43, .102), loc=2,\n",
    "               ncol=1, mode=\"expand\",fontsize=15)\n",
    "#plt.title('First round selection, '+str(atlasgenes)+' atlas genes included')\n",
    "plt.gcf().subplots_adjust(left=.1,right=0.75)\n",
    "f.savefig(savedir+date+'/Figure_S1_right.png')\n",
    "f.savefig(savedir+date+'/Figure_S1_right.pdf')\n",
    "plt.show()"
   ]
  },
  {
   "cell_type": "markdown",
   "metadata": {},
   "source": [
    "# original annotations Glioblastoma data:"
   ]
  },
  {
   "cell_type": "code",
   "execution_count": null,
   "metadata": {},
   "outputs": [],
   "source": [
    "idx = GBM_meta.index\n",
    "tsnedf.loc[idx,'original_membership'] = GBM_meta.loc[idx,'Cell_type']\n",
    "keys = celltypes[:6]+list(set(GBM_meta['Cell_type'].unique()).difference(celltypes))\n",
    "values = sns.color_palette('Paired',len(keys))\n",
    "lut = dict(zip(keys,values))\n",
    "colors = tsnedf[6:].original_membership.map(lut)\n",
    "\n",
    "f = plt.figure(figsize=(11,10))\n",
    "gs = gridspec.GridSpec(1,1)\n",
    "ax = f.add_subplot(gs[0,0])\n",
    "tsnedf[6:].plot.scatter('Dim1','Dim2',ax=ax,color=colors,s=30,alpha=.5)#,label=colors.keys)\n",
    "for x,y in lut.items():\n",
    "    plt.bar(0,0,color=y,label=x,alpha=1)\n",
    "    handles, labels = ax.get_legend_handles_labels()\n",
    "    #plt.legend(handles[:],labels[:],bbox_to_anchor=(-0.0, 1.08, 1., .102), loc=2,\n",
    "    plt.legend(handles[:],labels[:],bbox_to_anchor=(1, .9, .3, .102), loc=2,\n",
    "               ncol=1, mode=\"expand\",fontsize=15)\n",
    "plt.yticks([]);plt.xticks([])\n",
    "plt.title('Original annotation, tSNE from weighted PCA containing atlas')\n",
    "plt.gcf().subplots_adjust(left=.05,right=0.73)\n",
    "plt.show()\n",
    "f.savefig(savedir+date+'/Figure_2A.png')\n",
    "f.savefig(savedir+date+'/Figure_2A.pdf')"
   ]
  },
  {
   "cell_type": "code",
   "execution_count": null,
   "metadata": {},
   "outputs": [],
   "source": [
    "f,ax = plt.subplots(figsize=(11,10))\n",
    "GBM_meta.plot.scatter('Dim1','Dim2',c=colors.loc[GBM_meta.index],ax=ax,alpha=.4,s=60)\n",
    "\n",
    "for x,y in lut.items():\n",
    "    plt.bar(0,0,color=y,label=x,alpha=1)\n",
    "    handles, labels = ax.get_legend_handles_labels()\n",
    "    #plt.legend(handles[:],labels[:],bbox_to_anchor=(-0.0, 1.08, 1., .102), loc=2,\n",
    "plt.legend(handles,labels,bbox_to_anchor=(1, .9, .43, .102), loc=2,\n",
    "               ncol=1, mode=\"expand\",fontsize=15)\n",
    "plt.yticks([]);plt.xticks([])\n",
    "plt.title('Original tSNE and annotation of new data')\n",
    "plt.gcf().subplots_adjust(left=.05,right=0.73)\n",
    "f.savefig(savedir+date+'/Figure_S1_left.png')\n",
    "f.savefig(savedir+date+'/Figure_S1_left.pdf')\n",
    "plt.show()"
   ]
  },
  {
   "cell_type": "markdown",
   "metadata": {},
   "source": [
    "# Annotation using subsampling"
   ]
  },
  {
   "cell_type": "code",
   "execution_count": null,
   "metadata": {},
   "outputs": [],
   "source": [
    "kwds = {'atlas':'Darmanis_2015_nofetal',\n",
    "         'n_features_per_cell_type':50,\n",
    "         'n_features_overdispersed':600,\n",
    "         'n_pcs':20,\n",
    "         'n_neighbors':10,\n",
    "         'n_neighbors_out_of_atlas':5,\n",
    "         'weights_atlas_cells':20,\n",
    "         'threshold_neighborhood':0.8,\n",
    "         'resolution_parameter':0.001,\n",
    "         'timestamp':date,\n",
    "         'savedir':savedir,\n",
    "         'CT_lut':name_lut\n",
    "        }\n",
    "tsnedf_sub, celltypes_sub = noa.atlas_subsamples_to_tsnedf(GBM_meta,GBM_counttable,**kwds)"
   ]
  },
  {
   "cell_type": "code",
   "execution_count": null,
   "metadata": {},
   "outputs": [],
   "source": [
    "addl = len(celltypes_sub)-8\n",
    "if addl % 2 == 0:\n",
    "    added_colors = sns.color_palette('BrBG',addl)\n",
    "else:\n",
    "    all_colors = sns.color_palette('BrBG',addl+1)\n",
    "    mid = round((len(all_colors)-1)/2)\n",
    "    added_colors = all_colors[:mid]+all_colors[mid+1:]\n",
    "colors = sns.color_palette('Paired', 10)[:6]+sns.color_palette('Paired',12)[8:10]+added_colors\n",
    "\n",
    "\n",
    "newlut = dict(zip(celltypes_sub,colors))\n",
    "newcolor = tsnedf_sub['new_membership'].map(newlut)\n",
    "sub_cells = len(tsnedf_sub)-len(GBM_meta)\n",
    "\n",
    "f,ax = plt.subplots(figsize=(12,10))\n",
    "tsnedf_sub[sub_cells:].plot.scatter('Dim1','Dim2',s=40\n",
    "                    ,alpha=.5,color='gray',ax=ax)\n",
    "tsnedf_sub[:sub_cells].plot.scatter('Dim1','Dim2',s=40\n",
    "                    ,alpha=.5,color=newcolor[:sub_cells],ax=ax)\n",
    "for x,y in newlut.items():\n",
    "    plt.bar(0,0,color=y,label=x,alpha=1)\n",
    "handles, labels = ax.get_legend_handles_labels()\n",
    "    #plt.legend(handles[:],labels[:],bbox_to_anchor=(-0.0, 1.08, 1., .102), loc=2,\n",
    "plt.legend(handles,celltypes_sub,bbox_to_anchor=(1, .9, .43, .102), loc=2,\n",
    "               ncol=1, mode=\"expand\",fontsize=15)\n",
    "plt.title('Subsampled cells in new data')\n",
    "plt.gcf().subplots_adjust(left=.1,right=0.75)\n",
    "f.savefig(savedir+date+'/Figure_S3_topLeft.png')\n",
    "f.savefig(savedir+date+'/Figure_S3_topLeft.pdf')\n",
    "\n",
    "f,ax = plt.subplots(figsize=(12,10))\n",
    "tsnedf_sub.plot.scatter('Dim1','Dim2',s=40\n",
    "                    ,alpha=.5,color=newcolor,ax=ax)\n",
    "for x,y in newlut.items():\n",
    "    plt.bar(0,0,color=y,label=x,alpha=1)\n",
    "handles, labels = ax.get_legend_handles_labels()\n",
    "    #plt.legend(handles[:],labels[:],bbox_to_anchor=(-0.0, 1.08, 1., .102), loc=2,\n",
    "plt.legend(handles,celltypes_sub\n",
    "           ,bbox_to_anchor=(1, .9, .43, .102), loc=2,\n",
    "               ncol=1, mode=\"expand\",fontsize=15)\n",
    "plt.title('Atlas-based annotation, subsampling')\n",
    "#plt.xlim(right=65)\n",
    "#plt.ylim(bottom=-60)\n",
    "plt.gcf().subplots_adjust(left=.1,right=0.75)\n",
    "f.savefig(savedir+date+'/Figure_S3_topRight.png')\n",
    "f.savefig(savedir+date+'/Figure_S3_topRight.pdf')\n",
    "plt.show()"
   ]
  },
  {
   "cell_type": "code",
   "execution_count": null,
   "metadata": {},
   "outputs": [],
   "source": [
    "idx = tsnedf_sub[sub_cells:].index\n",
    "GBM_meta.loc[idx,'new_membership_sub'] = tsnedf_sub.loc[idx]['new_membership']\n",
    "# new results mapped onto old tSNE\n",
    "newlut = dict(zip(celltypes_sub,sns.color_palette('Paired', 10)[:6]+sns.color_palette('Paired',12)[8:10]+added_colors))\n",
    "newcolor = GBM_meta['new_membership_sub'].map(newlut)\n",
    "\n",
    "f,ax = plt.subplots(figsize=(12,10))\n",
    "GBM_meta.plot.scatter('Dim1','Dim2',s=60\n",
    "                    ,alpha=.5,color=newcolor,ax=ax)\n",
    "for x,y in newlut.items():\n",
    "    plt.bar(0,0,color=y,label=x,alpha=1)\n",
    "handles, labels = ax.get_legend_handles_labels()\n",
    "    #plt.legend(handles[:],labels[:],bbox_to_anchor=(-0.0, 1.08, 1., .102), loc=2,\n",
    "plt.legend(handles,labels,bbox_to_anchor=(1, .9, .43, .102), loc=2,\n",
    "               ncol=1, mode=\"expand\",fontsize=15)\n",
    "plt.title('Glioblastoma tSNE, new annotation based on subsampling')\n",
    "plt.gcf().subplots_adjust(left=.1,right=0.75)\n",
    "f.savefig(savedir+date+'/Figure_S3_bottom.png')\n",
    "f.savefig(savedir+date+'/Figure_S3_bottom.pdf')\n",
    "plt.show()"
   ]
  },
  {
   "cell_type": "code",
   "execution_count": null,
   "metadata": {
    "collapsed": true
   },
   "outputs": [],
   "source": [
    "tsnedf.to_csv(savedir+date+'/tsnedf_averaging_'+date+'.csv')\n",
    "tsnedf_sub.to_csv(savedir+date+'/tsnedf_subsampling_'+date+'.csv')"
   ]
  },
  {
   "cell_type": "markdown",
   "metadata": {},
   "source": [
    "# check annotation stability"
   ]
  },
  {
   "cell_type": "code",
   "execution_count": null,
   "metadata": {},
   "outputs": [],
   "source": [
    "# uses same dict as above\n",
    "dim = len(tsnedf)\n",
    "trials = 20\n",
    "b = c = np.ndarray([trials,dim,dim],np.int32)\n",
    "\n",
    "for i in range(trials):\n",
    "    annot = noa.atlas_averages_annotationOnly(GBM_meta,GBM_counttable,**kwds)\n",
    "    df = pd.pivot_table(annot,values='class',index=annot.index,columns='new_membership',aggfunc=np.count_nonzero).fillna(0).copy()                     \n",
    "    a = df.T.corr().values\n",
    "    b[i][:][:] = a\n",
    "\n",
    "average_df = pd.DataFrame(np.average(b,axis=0),index=df.index,columns=df.index)\n",
    "drop_idx = average_df[(average_df[average_df==1].sum()==1)].index\n",
    "stable_pairs = average_df.drop(drop_idx).drop(drop_idx,axis=1)\n",
    "stablep = stable_pairs[stable_pairs==1].fillna(0)\n",
    "\n",
    "# select groups with same size as value counts (this avoids me having to perform hierarchical clustering)\n",
    "idx = stablep.sum().value_counts().index.astype(int)\n",
    "val = stablep.sum().value_counts().values\n",
    "df = pd.DataFrame(index=range(len(idx)), columns=['idx','val'])\n",
    "df['idx'] = idx;df['val'] = val\n",
    "groups = df[df.eq(df.iloc[:, 0], axis=0).all(1)==True].idx.values\n",
    "\n",
    "idxs = []\n",
    "for cluster in groups:\n",
    "    idxs.append(list(stablep[stablep.sum()==cluster].index))\n",
    "clusterdict = dict(zip(groups,idxs))\n",
    "print(groups)\n",
    "groupi = groups[:13] # take the 13 largest groups\n",
    "\n",
    "values = sns.color_palette('Paired',len(groupi))\n",
    "lut = dict(zip(groupi,values))\n",
    "\n",
    "f,ax = plt.subplots(figsize=(11,10))\n",
    "tsnedf.plot.scatter('Dim1','Dim2',ax=ax,color='k',s=2*20,alpha=.5)\n",
    "for group in groupi:\n",
    "    idxes = clusterdict[group]\n",
    "    tsnedf.loc[idxes].plot.scatter('Dim1','Dim2',ax=ax,color=lut[group],s=40,alpha=.6)\n",
    "\n",
    "for x,y in lut.items():\n",
    "    plt.bar(0,0,color=y,label=x,alpha=1)\n",
    "    handles, labels = ax.get_legend_handles_labels()\n",
    "plt.legend(handles[:],labels[:],bbox_to_anchor=(1, .9, .3, .102), loc=2,\n",
    "               ncol=1, mode=\"expand\",fontsize=15)\n",
    "plt.yticks([]);plt.xticks([])\n",
    "plt.title('stable clusters over '+str(trials)+' rounds of NorthStar')\n",
    "plt.gcf().subplots_adjust(left=.05,right=0.73)\n",
    "f.savefig(savedir+date+'/Figure_S2_middle.png')\n",
    "f.savefig(savedir+date+'/Figure_S2_middle.pdf')\n",
    "plt.show()"
   ]
  },
  {
   "cell_type": "code",
   "execution_count": null,
   "metadata": {
    "scrolled": true
   },
   "outputs": [],
   "source": [
    "cluster_pair_df = noa.make_pairdf(1-average_df,2,tsnedf,'Dim')"
   ]
  },
  {
   "cell_type": "code",
   "execution_count": null,
   "metadata": {},
   "outputs": [],
   "source": [
    "f,ax = plt.subplots(figsize=(10,10))\n",
    "tsnedf.plot.scatter('Dim1','Dim2',figsize=(10,10),ax=ax,alpha=.05,color='gray')\n",
    "for pair in cluster_pair_df.index:\n",
    "    xy1 = tsnedf.loc[cluster_pair_df.loc[pair,0]][['Dim1','Dim2']]\n",
    "    xy2 = tsnedf.loc[cluster_pair_df.loc[pair,1]][['Dim1','Dim2']]\n",
    "    ax.plot([xy1[0],xy2[0]],[xy1[1],xy2[1]],alpha=.05,c='r')\n",
    "\n",
    "#plt.yticks([]);plt.xticks([])\n",
    "plt.xlabel('tSNE1'),plt.ylabel('tSNE2')\n",
    "plt.title('Nearest NorthStar neighbors')\n",
    "\n",
    "plt.gcf().subplots_adjust(right=0.8,bottom=.2)\n",
    "plt.show()\n",
    "f.savefig(savedir+date+'/Figure_S2_right.png')\n",
    "f.savefig(savedir+date+'/Figure_S2_right.pdf')"
   ]
  },
  {
   "cell_type": "markdown",
   "metadata": {
    "collapsed": true
   },
   "source": [
    "# distance matrix features"
   ]
  },
  {
   "cell_type": "code",
   "execution_count": null,
   "metadata": {},
   "outputs": [],
   "source": [
    "pairdf = noa.make_pairdf(pd.DataFrame(distance_matrix),5,tsnedf,'Dim')"
   ]
  },
  {
   "cell_type": "code",
   "execution_count": null,
   "metadata": {},
   "outputs": [],
   "source": [
    "pairdf.head()"
   ]
  },
  {
   "cell_type": "code",
   "execution_count": null,
   "metadata": {},
   "outputs": [],
   "source": [
    "pairdf.edge_type.value_counts()"
   ]
  },
  {
   "cell_type": "code",
   "execution_count": null,
   "metadata": {},
   "outputs": [],
   "source": [
    "lut = {'intra_class':'orange','inter_class':'gray'}\n",
    "cols = pairdf['edge_type'].map(lut)\n",
    "f,ax = plt.subplots()\n",
    "pairdf[pairdf['edge_type'].str.contains('inter')].plot.scatter('edge_length','distance',alpha=.2,figsize=(7,7),color='gray',label='inter-class edge',ax=ax)\n",
    "pairdf[pairdf['edge_type'].str.contains('intra')].plot.scatter('edge_length','distance',alpha=.3,figsize=(7,7),color='orange',label='intra-class edge',ax=ax)\n",
    "plt.yscale('log');plt.xscale('log')\n",
    "plt.ylim(.0001,1.2)\n",
    "plt.xlim(.0001,100)\n",
    "plt.title('5 nearest neighbor edges')\n",
    "plt.gcf().subplots_adjust(left=0.2,bottom=.2)\n",
    "plt.show()"
   ]
  },
  {
   "cell_type": "code",
   "execution_count": null,
   "metadata": {},
   "outputs": [],
   "source": [
    "colors = sns.color_palette('RdBu_r',5)\n",
    "f,ax = plt.subplots()\n",
    "pairdf[pairdf['correlation']<.8].plot.scatter('edge_length','distance',alpha=.2,figsize=(7,7),color=colors[0],label='<80%',ax=ax)\n",
    "pairdf[(pairdf['correlation']<.9)&(pairdf['correlation']>=.8)].plot.scatter('edge_length','distance',alpha=.3,figsize=(7,7),color=colors[1],label='80-90%',ax=ax)\n",
    "pairdf[(pairdf['correlation']<.95)&(pairdf['correlation']>=.9)].plot.scatter('edge_length','distance',alpha=.3,figsize=(7,7),color=colors[2],label='90-95%',ax=ax)\n",
    "pairdf[(pairdf['correlation']<.99)&(pairdf['correlation']>=.95)].plot.scatter('edge_length','distance',alpha=.3,figsize=(7,7),color=colors[3],label='95-99%',ax=ax)\n",
    "pairdf[pairdf['correlation']>=.99].plot.scatter('edge_length','distance',alpha=.3,figsize=(7,7),color=colors[4],label='>=99%',ax=ax)\n",
    "plt.yscale('log');plt.xscale('log')\n",
    "plt.ylim(.0001,1.2)\n",
    "plt.xlim(.0001,100)\n",
    "plt.title('5 nearest neighbor edges')\n",
    "plt.gcf().subplots_adjust(left=0.2,bottom=.2)\n",
    "plt.show()"
   ]
  },
  {
   "cell_type": "code",
   "execution_count": null,
   "metadata": {},
   "outputs": [],
   "source": [
    "colors = sns.color_palette('RdBu_r',5)\n",
    "f,ax = plt.subplots(figsize=(10,10))\n",
    "tsnedf.plot.scatter('Dim1','Dim2',figsize=(10,10),ax=ax,alpha=.05,color='gray')\n",
    "for pair in pairdf.index:\n",
    "    xy1 = tsnedf.iloc[pairdf.loc[pair,0]][['Dim1','Dim2']]\n",
    "    xy2 = tsnedf.iloc[pairdf.loc[pair,1]][['Dim1','Dim2']]\n",
    "    corr = pairdf.loc[pair,'correlation']\n",
    "    if corr<.8:\n",
    "        ax.plot([xy1[0],xy2[0]],[xy1[1],xy2[1]],alpha=.3\n",
    "            ,c=colors[0])\n",
    "    elif (corr>=.8) & (corr<.9):\n",
    "        ax.plot([xy1[0],xy2[0]],[xy1[1],xy2[1]],alpha=.3\n",
    "            ,c=colors[1])\n",
    "    elif (corr>=.9) & (corr<.95):\n",
    "        ax.plot([xy1[0],xy2[0]],[xy1[1],xy2[1]],alpha=.3\n",
    "            ,c=colors[2])\n",
    "    elif (corr>=.95) & (corr<.99):\n",
    "        ax.plot([xy1[0],xy2[0]],[xy1[1],xy2[1]],alpha=.3\n",
    "            ,c=colors[3])\n",
    "    elif corr>=.99:\n",
    "        ax.plot([xy1[0],xy2[0]],[xy1[1],xy2[1]],alpha=.3\n",
    "            ,c=colors[4])\n",
    "#plt.yticks([]);plt.xticks([])\n",
    "handles = ['<80%','80-90%','90-95%','95-99%','>99%']\n",
    "labs = [f for f in colors]\n",
    "dictcorr = dict(zip(handles,labs))\n",
    "for x,y in dictcorr.items():\n",
    "    plt.bar(0,0,color=y,label=x,alpha=1)\n",
    "    handle, labels = ax.get_legend_handles_labels()\n",
    "    \n",
    "plt.xlabel('tSNE1'),plt.ylabel('tSNE2')\n",
    "plt.title('Correlation 5 nearest neighbors')\n",
    "plt.legend(handle,handles, bbox_to_anchor=(1, .9, .43, .102), loc=2,\n",
    "               ncol=1, mode=\"expand\",fontsize=15)\n",
    "plt.gcf().subplots_adjust(right=0.8,bottom=.2)\n",
    "plt.show()\n",
    "f.savefig(savedir+date+'/Figure_S2_left.png')\n",
    "f.savefig(savedir+date+'/Figure_S2_left.pdf')"
   ]
  },
  {
   "cell_type": "markdown",
   "metadata": {
    "collapsed": true
   },
   "source": [
    "# Sankey Diagram"
   ]
  },
  {
   "cell_type": "code",
   "execution_count": null,
   "metadata": {},
   "outputs": [],
   "source": [
    "imp.reload(nosa)\n",
    "idx = GBM_meta.index\n",
    "tsnedf.loc[idx,'original_membership'] = GBM_meta.loc[idx,'Cell_type']\n",
    "keys = ['left_column', 'right_column','figure_name','savedir','close_plot']\n",
    "values = ['original_membership','new_membership','Figure_2D'\n",
    "        ,savedir+date+'/',True]\n",
    "kw = dict(zip(keys,values))\n",
    "# change the order of col_order numbers to change the sankey right column ordering:\n",
    "#col_order = range(len(tsnedf['new_membership'].unique()))\n",
    "l,r = nosa.sankey(tsnedf[6:],column_order=None,**kw)"
   ]
  },
  {
   "cell_type": "markdown",
   "metadata": {},
   "source": [
    "# Make DotPlot"
   ]
  },
  {
   "cell_type": "code",
   "execution_count": null,
   "metadata": {},
   "outputs": [],
   "source": [
    "keys = ['left_column', 'right_column','figure_name','savedir','close_plot']\n",
    "values = ['original_membership','new_membership','Figure_2E'\n",
    "        ,savedir+date+'/',False]\n",
    "kw = dict(zip(keys,values))\n",
    "matrix_feature_selected = pd.read_csv(savedir+date+'/feature_selected_matrix_'+date+'.csv',index_col=0)\n",
    "genePanel,rows,cols,DEGs,avg = ndot.make_dotplot(matrix_feature_selected,tsnedf,3,list(mainlut.values()),**kw)"
   ]
  },
  {
   "cell_type": "code",
   "execution_count": null,
   "metadata": {
    "collapsed": true
   },
   "outputs": [],
   "source": []
  },
  {
   "cell_type": "code",
   "execution_count": null,
   "metadata": {
    "collapsed": true
   },
   "outputs": [],
   "source": []
  },
  {
   "cell_type": "code",
   "execution_count": null,
   "metadata": {
    "collapsed": true
   },
   "outputs": [],
   "source": []
  },
  {
   "cell_type": "code",
   "execution_count": null,
   "metadata": {
    "collapsed": true
   },
   "outputs": [],
   "source": []
  }
 ],
 "metadata": {
  "kernelspec": {
   "display_name": "Python 3",
   "language": "python",
   "name": "python3"
  },
  "language_info": {
   "codemirror_mode": {
    "name": "ipython",
    "version": 3
   },
   "file_extension": ".py",
   "mimetype": "text/x-python",
   "name": "python",
   "nbconvert_exporter": "python",
   "pygments_lexer": "ipython3",
   "version": "3.6.3"
  }
 },
 "nbformat": 4,
 "nbformat_minor": 2
}
